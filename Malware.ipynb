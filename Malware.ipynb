{
  "cells": [
    {
      "cell_type": "markdown",
      "metadata": {
        "id": "view-in-github",
        "colab_type": "text"
      },
      "source": [
        "<a href=\"https://colab.research.google.com/github/SilvianaSiagian/klasifikasi-malware/blob/main/Malware.ipynb\" target=\"_parent\"><img src=\"https://colab.research.google.com/assets/colab-badge.svg\" alt=\"Open In Colab\"/></a>"
      ]
    },
    {
      "cell_type": "code",
      "source": [
        "import pandas as pd\n",
        "from sklearn.model_selection import train_test_split\n",
        "from sklearn.tree import DecisionTreeClassifier\n",
        "from sklearn.preprocessing import LabelEncoder\n",
        "from sklearn.metrics import accuracy_score, classification_report\n",
        "\n",
        "\n",
        "# Membaca file CSV\n",
        "data = pd.read_csv('android_traffic.csv', delimiter=';')\n",
        "\n",
        "# Menghapus kolom dengan lebih dari 60% nilai NaN\n",
        "missing_percent = data.isnull().sum() / len(data)\n",
        "columns_to_drop = missing_percent[missing_percent > 0.6].index\n",
        "data = data.drop(columns=columns_to_drop)\n",
        "\n",
        "# Mendapatkan kolom-kolom non-numerik\n",
        "non_numeric_cols = data.select_dtypes(exclude=['float64', 'int64']).columns.tolist()\n"
      ],
      "metadata": {
        "id": "jBvBBuAcnEXb"
      },
      "execution_count": 3,
      "outputs": []
    }
  ],
  "metadata": {
    "colab": {
      "name": "Welcome To Colaboratory",
      "provenance": [],
      "include_colab_link": true
    },
    "kernelspec": {
      "display_name": "Python 3",
      "name": "python3"
    }
  },
  "nbformat": 4,
  "nbformat_minor": 0
}