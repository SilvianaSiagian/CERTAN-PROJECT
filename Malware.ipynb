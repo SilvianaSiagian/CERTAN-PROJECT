{
  "cells": [
    {
      "cell_type": "markdown",
      "metadata": {
        "id": "view-in-github",
        "colab_type": "text"
      },
      "source": [
        "<a href=\"https://colab.research.google.com/github/SilvianaSiagian/klasifikasi-malware/blob/main/Malware.ipynb\" target=\"_parent\"><img src=\"https://colab.research.google.com/assets/colab-badge.svg\" alt=\"Open In Colab\"/></a>"
      ]
    },
    {
      "cell_type": "code",
      "source": [
        "import pandas as pd\n",
        "from sklearn.model_selection import train_test_split\n",
        "from sklearn.tree import DecisionTreeClassifier\n",
        "from sklearn.preprocessing import LabelEncoder\n",
        "from sklearn.metrics import accuracy_score, classification_report\n",
        "\n",
        "\n",
        "# Membaca file CSV\n",
        "data = pd.read_csv('android_traffic.csv', delimiter=';')\n",
        "\n",
        "# Menghapus kolom dengan lebih dari 60% nilai NaN\n",
        "missing_percent = data.isnull().sum() / len(data)\n",
        "columns_to_drop = missing_percent[missing_percent > 0.6].index\n",
        "data = data.drop(columns=columns_to_drop)\n",
        "\n",
        "# Mendapatkan kolom-kolom non-numerik\n",
        "non_numeric_cols = data.select_dtypes(exclude=['float64', 'int64']).columns.tolist()\n"
      ],
      "metadata": {
        "id": "jBvBBuAcnEXb"
      },
      "execution_count": null,
      "outputs": []
    },
    {
      "cell_type": "code",
      "source": [
        "# Menggunakan LabelEncoder untuk mengubah nilai non-numerik menjadi numerik\n",
        "label_encoders = {}\n",
        "for col in non_numeric_cols:\n",
        "    label_encoders[col] = LabelEncoder()\n",
        "    data[col] = label_encoders[col].fit_transform(data[col].astype(str))\n",
        "\n",
        "# Memisahkan fitur dan label\n",
        "fitur = data.drop('type', axis=1)  # Fitur\n",
        "label = data['type']  # Label\n",
        "\n",
        "# Membagi data menjadi data latih dan data uji\n",
        "X_train, X_test, y_train, y_test = train_test_split(fitur, label, test_size=0.2, random_state=42)\n",
        "\n",
        "# Membuat model Decision Tree Classifier\n",
        "decision_tree = DecisionTreeClassifier(random_state=42)\n",
        "decision_tree.fit(X_train, y_train)"
      ],
      "metadata": {
        "id": "ZGE7hMKdxlHk"
      },
      "execution_count": null,
      "outputs": []
    },
    {
      "cell_type": "code",
      "source": [],
      "metadata": {
        "id": "PiWwiM0Rx01o"
      },
      "execution_count": null,
      "outputs": []
    }
  ],
  "metadata": {
    "colab": {
      "name": "Welcome To Colaboratory",
      "provenance": [],
      "include_colab_link": true
    },
    "kernelspec": {
      "display_name": "Python 3",
      "name": "python3"
    }
  },
  "nbformat": 4,
  "nbformat_minor": 0
}